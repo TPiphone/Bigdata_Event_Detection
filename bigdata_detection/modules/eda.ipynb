{
 "cells": [
  {
   "cell_type": "code",
   "execution_count": 1,
   "metadata": {},
   "outputs": [],
   "source": [
    "# import functions from ../definitions/definitions_EDA\n",
    "from datetime import datetime, timedelta\n",
    "import sys\n",
    "from matplotlib import pyplot as plt\n",
    "import numpy as np\n",
    "sys.path.append('../definitions')\n",
    "import definitions_EDA as eda\n",
    "# import definitions_plotting as def_plot\n",
    "from scipy.fft import fft, ifft, fftfreq\n",
    "from scipy import signal\n",
    "import shutil"
   ]
  },
  {
   "cell_type": "markdown",
   "metadata": {},
   "source": [
    "Define Variables"
   ]
  },
  {
   "cell_type": "code",
   "execution_count": 2,
   "metadata": {},
   "outputs": [],
   "source": [
    "start_date = '2024-03-29'\n",
    "end_date = '2024-04-02'\n",
    "start_day_control = '2024-03-23'\n",
    "end_day_control = '2024-03-23'"
   ]
  },
  {
   "cell_type": "markdown",
   "metadata": {},
   "source": [
    "Fetch data and store as dataframe"
   ]
  },
  {
   "cell_type": "code",
   "execution_count": 3,
   "metadata": {},
   "outputs": [
    {
     "name": "stdout",
     "output_type": "stream",
     "text": [
      "/Users/tristan/Library/CloudStorage/OneDrive-StellenboschUniversity/Academics/Final_year/Semester 2/Skripsie/Data/SANSA/2024-03-29.ctumag\n",
      "/Users/tristan/Library/CloudStorage/OneDrive-StellenboschUniversity/Academics/Final_year/Semester 2/Skripsie/Data/SANSA/2024-03-30.ctumag\n",
      "/Users/tristan/Library/CloudStorage/OneDrive-StellenboschUniversity/Academics/Final_year/Semester 2/Skripsie/Data/SANSA/2024-03-31.ctumag\n",
      "/Users/tristan/Library/CloudStorage/OneDrive-StellenboschUniversity/Academics/Final_year/Semester 2/Skripsie/Data/SANSA/2024-04-01.ctumag\n",
      "/Users/tristan/Library/CloudStorage/OneDrive-StellenboschUniversity/Academics/Final_year/Semester 2/Skripsie/Data/SANSA/2024-04-02.ctumag\n",
      "/Users/tristan/Library/CloudStorage/OneDrive-StellenboschUniversity/Academics/Final_year/Semester 2/Skripsie/Data/SANSA/2024-03-29.squid\n",
      "/Users/tristan/Library/CloudStorage/OneDrive-StellenboschUniversity/Academics/Final_year/Semester 2/Skripsie/Data/SANSA/2024-03-30.squid\n",
      "/Users/tristan/Library/CloudStorage/OneDrive-StellenboschUniversity/Academics/Final_year/Semester 2/Skripsie/Data/SANSA/2024-03-31.squid\n",
      "/Users/tristan/Library/CloudStorage/OneDrive-StellenboschUniversity/Academics/Final_year/Semester 2/Skripsie/Data/SANSA/2024-04-01.squid\n",
      "/Users/tristan/Library/CloudStorage/OneDrive-StellenboschUniversity/Academics/Final_year/Semester 2/Skripsie/Data/SANSA/2024-04-02.squid\n",
      "Data array mag shape: \n",
      " (2159987, 4)\n",
      "Data array mag head: \n",
      "       0           1        2           3\n",
      "0  0.09  10964.9980 -71.4005 -22662.5927\n",
      "1  0.29  10965.0129 -71.3179 -22662.5824\n",
      "2  0.49  10965.0129 -71.3179 -22662.5824\n",
      "3  0.69  10965.0129 -71.3179 -22662.5824\n",
      "4  0.89  10965.0178 -71.3441 -22662.6716\n",
      "Data frame shape: \n",
      " (2159987, 5)\n",
      "Data frame head: \n",
      "       NS_SQUID  F_SQUID  NS_Fluxgate  EW_Fluxgate  Z_Fluxgate\n",
      "Time                                                         \n",
      "0.09  -98.7272 -84.6562   10964.9980     -71.4005 -22662.5927\n",
      "0.29  -98.7269 -84.7641   10965.0129     -71.3179 -22662.5824\n",
      "0.49  -98.7254 -84.7845   10965.0129     -71.3179 -22662.5824\n",
      "0.69  -98.7248 -84.7704   10965.0129     -71.3179 -22662.5824\n",
      "0.89  -98.7239 -84.7536   10965.0178     -71.3441 -22662.6716\n"
     ]
    }
   ],
   "source": [
    "data_arr_mag = eda.process_data(eda.get_data('ctumag', eda.read_txt_file, start_date, end_date))\n",
    "data_arr_squid = eda.process_data(eda.get_data('squid', eda.read_txt_file, start_date, end_date))\n",
    "print(f\"Data array mag shape: \\n {data_arr_mag.shape}\")\n",
    "print(f\"Data array mag head: \\n {data_arr_mag.head()}\")\n",
    "df = eda.create_dataframe(data_arr_mag, data_arr_squid)\n",
    "print(f\"Data frame shape: \\n {df.shape}\")\n",
    "print(f\"Data frame head: \\n {df.head()}\")\n",
    "\n",
    "# Create control df\n",
    "# data_arr_mag_cntrl = eda.process_data(eda.get_data('ctumag', eda.read_txt_file, start_day_control, end_day_control))\n",
    "# data_arr_squid_cntrl = eda.process_data(eda.get_data('squid', eda.read_txt_file, start_day_control, end_day_control))\n",
    "# df_cntrl = eda.create_dataframe(data_arr_mag_cntrl, data_arr_squid_cntrl)\n",
    "# print(f\"Data frame control shape: \\n {df_cntrl.shape}\")"
   ]
  },
  {
   "cell_type": "markdown",
   "metadata": {},
   "source": [
    "Call functions in eda definitions"
   ]
  },
  {
   "cell_type": "code",
   "execution_count": null,
   "metadata": {},
   "outputs": [],
   "source": [
    "discontinuities, threshold, df_cleaned = eda.discontinuity_check(df,df_cntrl)\n",
    "eda.write_data_summary(df, threshold, discontinuities)\n",
    "# components, fourier_results = eda.calculate_fourier_transforms(df)\n",
    "# eda.plot_fourier_transform(fourier_results, components)\n",
    "print(df_cleaned)"
   ]
  },
  {
   "cell_type": "markdown",
   "metadata": {},
   "source": [
    "Plotting"
   ]
  },
  {
   "cell_type": "code",
   "execution_count": null,
   "metadata": {},
   "outputs": [],
   "source": []
  },
  {
   "cell_type": "markdown",
   "metadata": {},
   "source": []
  }
 ],
 "metadata": {
  "kernelspec": {
   "display_name": "Python 3",
   "language": "python",
   "name": "python3"
  },
  "language_info": {
   "codemirror_mode": {
    "name": "ipython",
    "version": 3
   },
   "file_extension": ".py",
   "mimetype": "text/x-python",
   "name": "python",
   "nbconvert_exporter": "python",
   "pygments_lexer": "ipython3",
   "version": "3.12.2"
  }
 },
 "nbformat": 4,
 "nbformat_minor": 2
}
