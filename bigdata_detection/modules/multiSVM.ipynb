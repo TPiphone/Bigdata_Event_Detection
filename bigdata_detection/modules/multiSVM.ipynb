{
 "cells": [
  {
   "cell_type": "code",
   "execution_count": 1,
   "metadata": {},
   "outputs": [],
   "source": [
    "import pandas as pd\n",
    "import numpy as np\n",
    "import matplotlib.pyplot as plt\n",
    "from sklearn.metrics import mean_squared_error\n",
    "import sys\n",
    "sys.path.append('../definitions')\n",
    "import def_model as mod_def\n",
    "from sklearn.multioutput import MultiOutputRegressor\n",
    "from sklearn.model_selection import train_test_split\n",
    "from sklearn.preprocessing import StandardScaler\n",
    "import matplotlib.pyplot as plt\n",
    "from sklearn.svm import SVC\n",
    "from sklearn.metrics import accuracy_score, classification_report"
   ]
  },
  {
   "cell_type": "markdown",
   "metadata": {},
   "source": [
    "Select Dates"
   ]
  },
  {
   "cell_type": "code",
   "execution_count": 2,
   "metadata": {},
   "outputs": [],
   "source": [
    "start_date = pd.Timestamp('2024-03-20')\n",
    "end_date = pd.Timestamp('2024-07-09')\n",
    "n_lags = 5"
   ]
  },
  {
   "cell_type": "markdown",
   "metadata": {},
   "source": [
    "Import data"
   ]
  },
  {
   "cell_type": "code",
   "execution_count": 3,
   "metadata": {},
   "outputs": [
    {
     "name": "stdout",
     "output_type": "stream",
     "text": [
      "Proportion of storm to no storm is:  0.12 %\n",
      "    NS_SQUID   Z_SQUID   NS_Fluxgate  EW_Fluxgate    Z_Fluxgate   H Component  \\\n",
      "0 -17.218172  0.263233  10934.303393   -42.359410 -22656.440907  10934.385443   \n",
      "1 -17.199095  0.317575  10934.335773   -42.639808 -22656.444363  10934.418915   \n",
      "2 -17.069690  0.255518  10934.388935   -42.276737 -22656.497270  10934.470664   \n",
      "3 -17.053298  0.289818  10934.401460   -42.308557 -22656.484653  10934.483313   \n",
      "4 -17.142593  0.255207  10934.392687   -42.265653 -22656.573902  10934.474373   \n",
      "\n",
      "   flag  \n",
      "0   0.0  \n",
      "1   0.0  \n",
      "2   0.0  \n",
      "3   0.0  \n",
      "4   0.0  \n",
      "This is the shape: (817967, 7)\n"
     ]
    }
   ],
   "source": [
    "df = mod_def.combine_resampled_data(start_date, end_date)\n",
    "\n",
    "print(df.head())\n",
    "print(f\"This is the shape:\" ,df.shape)"
   ]
  },
  {
   "cell_type": "markdown",
   "metadata": {},
   "source": [
    "Use test data"
   ]
  },
  {
   "cell_type": "code",
   "execution_count": 4,
   "metadata": {},
   "outputs": [],
   "source": [
    "# Example multivariate time series data (e.g., 3 variables)\n",
    "np.random.seed(42)\n",
    "n_samples = 100\n",
    "n_features = 3\n",
    "data = np.random.rand(n_samples, n_features)"
   ]
  },
  {
   "cell_type": "code",
   "execution_count": 14,
   "metadata": {},
   "outputs": [
    {
     "name": "stdout",
     "output_type": "stream",
     "text": [
      "       NS_Fluxgate  EW_Fluxgate    Z_Fluxgate   H Component  flag\n",
      "0     10934.303393   -42.359410 -22656.440907  10934.385443   0.0\n",
      "1     10934.335773   -42.639808 -22656.444363  10934.418915   0.0\n",
      "2     10934.388935   -42.276737 -22656.497270  10934.470664   0.0\n",
      "3     10934.401460   -42.308557 -22656.484653  10934.483313   0.0\n",
      "4     10934.392687   -42.265653 -22656.573902  10934.474373   0.0\n",
      "...            ...          ...           ...           ...   ...\n",
      "7339  10961.682807   -86.046363 -22642.759082  10962.020523   0.0\n",
      "7340  10961.719243   -85.969953 -22642.758770  10962.056358   0.0\n",
      "7341  10961.747277   -86.003307 -22642.731825  10962.084653   0.0\n",
      "7342  10961.737595   -85.912318 -22642.798250  10962.074258   0.0\n",
      "7343  10961.745295   -85.905466 -22642.819408  10962.081903   0.0\n",
      "\n",
      "[817967 rows x 5 columns]\n",
      "This is the head of X [[ 10934.39268667    -42.26565333 -22656.57390167 ...    -42.23941\n",
      "  -22656.46315333  10934.46896531]\n",
      " [ 10934.38738       -42.23941    -22656.46315333 ...    -42.28882833\n",
      "  -22656.31290167  10934.51464255]\n",
      " [ 10934.43286667    -42.28882833 -22656.31290167 ...    -42.32662167\n",
      "  -22656.177945    10934.51327263]\n",
      " ...\n",
      " [ 10961.71924333    -85.96995333 -22642.75877    ...    -86.00330667\n",
      "  -22642.731825    10962.08465252]\n",
      " [ 10961.74727667    -86.00330667 -22642.731825   ...    -85.91231833\n",
      "  -22642.79825     10962.07425781]\n",
      " [ 10961.737595      -85.91231833 -22642.79825    ...    -85.90546579\n",
      "  -22642.81940789  10962.08190344]]\n"
     ]
    }
   ],
   "source": [
    "print(df.iloc[:, 2:7])\n",
    "X, Y = mod_def.create_lagged_features(df.iloc[:, 2:7], n_lags=n_lags)\n",
    "print(f\"This is the head of X\", X)\n",
    "# print(f\"This is the head of Y\", Y)\n",
    "\n",
    "# Train-test split (without shuffling to maintain temporal order)\n",
    "test_size = 0.2\n",
    "split_idx = int((1 - test_size) * len(X))\n",
    "X_train, X_test = X[:split_idx], X[split_idx:]\n",
    "Y_train, Y_test = Y[:split_idx], Y[split_idx:]\n",
    "\n",
    "scaler_X = StandardScaler()\n",
    "X_train_scaled = scaler_X.fit_transform(X_train)\n",
    "X_test_scaled = scaler_X.transform(X_test)"
   ]
  },
  {
   "cell_type": "code",
   "execution_count": 15,
   "metadata": {},
   "outputs": [],
   "source": [
    "kernel_list = ['linear', 'rbf', 'poly']\n",
    "\n",
    "for kernel_i in kernel_list:\n",
    "    # Initialize the SVC model (Support Vector Classification)\n",
    "    svc = SVC(kernel=kernel_i, class_weight='balanced')\n",
    "\n",
    "    # Train the SVC model\n",
    "    svc.fit(X_train_scaled, Y_train)\n",
    "\n",
    "    # Make predictions\n",
    "    Y_pred = svc.predict(X_test_scaled)\n",
    "\n",
    "    # Evaluate the model using classification metrics\n",
    "    accuracy = accuracy_score(Y_test, Y_pred)\n",
    "    print(f\"Accuracy for model {kernel_i}: {accuracy:.4f}\")\n",
    "\n",
    "    # Display detailed classification metrics\n",
    "    print(f\"Classification Report for model {kernel_i}:\")\n",
    "    print(classification_report(Y_test, Y_pred))\n",
    "\n",
    "    plt.plot(Y_test, label=\"True\")\n",
    "    plt.plot(Y_pred, label=\"Predicted\", linestyle='--')\n",
    "    plt.title(f\"True vs Predicted Binary Labels for model {kernel_i}\")\n",
    "    plt.legend()\n",
    "    plt.show()"
   ]
  },
  {
   "cell_type": "markdown",
   "metadata": {},
   "source": [
    "Create training and testing data"
   ]
  },
  {
   "cell_type": "code",
   "execution_count": null,
   "metadata": {},
   "outputs": [],
   "source": [
    "train_end = len(df)*0.7\n",
    "Y = pd.DataFrame()\n",
    "X = pd.DataFrame()\n",
    "Y = df['flag'] # select labels \n",
    "X = df.drop('flag', axis=1) #select features\n",
    "X_train = X.loc[0:train_end]\n",
    "X_test = X.loc[train_end:]\n",
    "Y_train = Y.loc[0:train_end]\n",
    "Y_test = Y.loc[train_end:]\n",
    "\n",
    "print(f\"The data is split at 70%\")\n",
    "print(\"This is X train head:\\n\",X_train.head())\n",
    "print(\"This is X train shape:\\n\",X_train.shape)\n",
    "print(\"This is y test head:\\n\",Y_test.head())\n",
    "print(\"This is y test shape:\\n\",Y_test.shape)\n",
    "print(type(X_train), type(Y_test))"
   ]
  },
  {
   "cell_type": "markdown",
   "metadata": {},
   "source": [
    "Scale"
   ]
  },
  {
   "cell_type": "code",
   "execution_count": null,
   "metadata": {},
   "outputs": [],
   "source": [
    "scaler_X = StandardScaler()\n",
    "scaler_Y = StandardScaler()\n",
    "X_train_scaled = scaler_X.fit_transform(X_train)\n",
    "X_test_scaled = scaler_X.transform(X_test)\n",
    "Y_train_scaled = scaler_Y.fit_transform(Y_train)\n",
    "Y_test_scaled = scaler_Y.transform(Y_test)"
   ]
  },
  {
   "cell_type": "markdown",
   "metadata": {},
   "source": [
    "Initialize the base SVR model"
   ]
  },
  {
   "cell_type": "code",
   "execution_count": null,
   "metadata": {},
   "outputs": [],
   "source": [
    "svr = SVR(kernel='rbf')\n",
    "multi_output_svr = MultiOutputRegressor(svr)"
   ]
  }
 ],
 "metadata": {
  "kernelspec": {
   "display_name": "Python 3",
   "language": "python",
   "name": "python3"
  },
  "language_info": {
   "codemirror_mode": {
    "name": "ipython",
    "version": 3
   },
   "file_extension": ".py",
   "mimetype": "text/x-python",
   "name": "python",
   "nbconvert_exporter": "python",
   "pygments_lexer": "ipython3",
   "version": "3.12.2"
  }
 },
 "nbformat": 4,
 "nbformat_minor": 2
}
