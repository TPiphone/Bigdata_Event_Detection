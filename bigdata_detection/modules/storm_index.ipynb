{
 "cells": [
  {
   "cell_type": "code",
   "execution_count": null,
   "metadata": {},
   "outputs": [],
   "source": [
    "import pandas as pd\n",
    "import matplotlib.pyplot as plt\n",
    "import sys\n",
    "sys.path.append('../definitions')\n",
    "import definitions_storm_index as sti"
   ]
  },
  {
   "cell_type": "code",
   "execution_count": null,
   "metadata": {},
   "outputs": [],
   "source": [
    "# Store the file paths in a list\n",
    "file_paths = []\n",
    "start_date_check = pd.Timestamp('2024-05-21')  # Start date\n",
    "end_date_check = pd.Timestamp('2024-05-26')  # End date\n",
    "start_date_quiet = pd.Timestamp('2024-03-21')  # Start date\n",
    "end_date_quiet = pd.Timestamp('2024-03-31')  # End date\n"
   ]
  },
  {
   "cell_type": "code",
   "execution_count": null,
   "metadata": {},
   "outputs": [],
   "source": [
    "df_check = sti.read_data(start_date_check, end_date_check)\n",
    "df_quiet = sti.read_data(start_date_quiet, end_date_quiet)\n",
    "print(\"This is the head for df check:\\n\", df_check.head())\n",
    "print(\"This is the head for df quiet:\\n\", df_quiet.head())"
   ]
  },
  {
   "cell_type": "code",
   "execution_count": null,
   "metadata": {},
   "outputs": [],
   "source": [
    "# Calculate the number of days for each dataset\n",
    "num_days_check = (end_date_check - start_date_check).days + 1\n",
    "num_days_quiet = (end_date_quiet - start_date_quiet).days + 1\n",
    "print(\"Number of days for df check:\", num_days_check)\n",
    "print(\"Number of days for df quiet:\", num_days_quiet)"
   ]
  },
  {
   "cell_type": "code",
   "execution_count": null,
   "metadata": {},
   "outputs": [],
   "source": [
    "# Resample the data to hourly frequency\n",
    "hourly_data_check = df_check.resample('h').mean()\n",
    "hourly_data_quiet = df_quiet.resample('h').mean()\n",
    "\n",
    "# Define quiet period for baseline calculation\n",
    "H_baseline = hourly_data_quiet['H'].mean()\n",
    "hourly_data_quiet['Dst_proxy'] = hourly_data_quiet['H'] - H_baseline\n",
    "\n",
    "# Plotting\n",
    "sti.plotDstProxyIndex(hourly_data_quiet)"
   ]
  }
 ],
 "metadata": {
  "kernelspec": {
   "display_name": "Python 3",
   "language": "python",
   "name": "python3"
  },
  "language_info": {
   "name": "python",
   "version": "3.12.2"
  }
 },
 "nbformat": 4,
 "nbformat_minor": 2
}
